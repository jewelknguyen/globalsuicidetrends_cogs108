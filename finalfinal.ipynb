{
 "cells": [
  {
   "cell_type": "markdown",
   "metadata": {},
   "source": [
    "# Common Patterns In Suicide Rates Across The World\n",
    "\n",
    "Video Link: https://drive.google.com/file/d/1NfxQNecVWXdNCMAE5J216l6W7X_vwAJM/view?usp=sharing \n",
    "# Permissions\n",
    "\n",
    "Place an `X` in the appropriate bracket below to specify if you would like your group's project to be made available to the public. (Note that student names will be included (but PIDs will be scraped from any groups who include their PIDs).\n",
    "\n",
    "* [  ] YES - make available\n",
    "* [ X ] NO - keep private\n",
    "\n",
    "# Names\n",
    "\n",
       "- Hillary Co\n", 
       "- Itzary Vences\n",
       "- Jewel Nguyen\n",
       "- Kanon Kitazume \n",
    "\n",
    "# Abstract\n",
    "\n",
    "This study examines the common patterns amongst suicide rates across different gender and age groups through many different nations from the years 2011-2021. By analyzing these trends, we aim to identify what factors may influence these rates and understand how certain socioeconomic conditions, culture attitudes, and mental health accessibility can contribute to these patterns.\n",
    "\n",
    "Our analysis demonstrates, how in high income countries suicide rates tend to me on the lower end, while middle and lower income countries tend to see significant increases. We analyze that this is likely due to the limited mental health care accessibility and due to cultural stigma as well. The analysis shows regarding gender, men have a higher suicide mortality rates whereas women showed higher attempts and ideation. Additionally adding the influence of age, we find that younger populations might encounter high pressures of stress due to things such as academics, and older populations are more affected with loss of a loved one and/or isolation. These finding are critical to better understand why suicide rates are higher in certain areas, inorder to help address this global issue."
   ]
  },
  {
   "cell_type": "markdown",
   "metadata": {},
   "source": [
    "# Research Question"
   ]
  },
    {
      "cell_type": "markdown",
      "metadata": {},
      "source": [
        "###What are the patterns of suicide rates among various sex and age groups within specific countries from 2011-2021?\n",
       "\n",
       "This study will examine the patterns seen in suicide rates across various differnet countries with a focus on gender and age groups throughout the years 2011-2021. The research will aim to identity any possible trend and factors seen in the data, inorder to find any possible influences on suicidal rates. After analyzing these patterns, the research we find may help us better understand how different regions might affect suicide rates while also finding possible prevention strategies seen in the data.\n"
      ]
     },
  {
   "cell_type": "markdown",
   "metadata": {},
   "source": [
    "## Background and Prior Work"
   ]
  },
  {   
   "cell_type": "markdown",
      "metadata": {},
      "source": [
       "###Background\n",
       "\n",
       "The increase of suicide rates has become a major health problem throughout various parts of the world. It is important to understand how the rates differ from countries, age and gender and if these patterns are influenced by factors such as culture, mental health support/accessibility, and economic conditions. Over the past 10 years, suicide rates have shown different trends around the world, with a visible drop in high-income countries. Yet with lower and middle income countries high suicide rates remain a struggle. This is likely due to many challenges such as the stigma many cultures have regarding mental health, or certain issues such as poverty.\n",
       "\n",
       "Many studies have shown that generally men, are more likey to die by suicide than women yet women are more likely to have suicidal thoughts and attempts. Age also plays a large factor in this as often times younger individuals are at a high risk of having suicidal thoughts due to the stress of school, work, and social media. Older adults tend to have them due to loneliness or the loss of a loved one. Next, regional differences tend to also play a role in suicide rates. An example being how in many countries women face gender-based violence and social inequality, while men face social expectations and are unwilling to seek help from professionals.\n",
       "\n",
       "The COVID-19 pandemic had played an experimentally large role in the increase and decrease of suidice rates. Many individuals were isolated from others which prompted a slight increase, yet many countries saw a decrease likely due to better mental health programs that were made during the time.\n",
       "\n",
              "### Prior Work\n",
        "\n",
        "Research has shown, overtime suicide rates and demographic disparities in suicide mortality vary. An analysis from the Global Burden of Disease (GBD) Study 2021 (Yan et al., 2024) provides data on adolescent and young adult suicide mortality from 1990 to 2021 where they found that while global suicide rates have declined overall (AAPC: -1.6%), the rate where there was less suicides depended on what region and socioeconomic status they came from. It was shown that in high income regions there was a slower reductions in suicide mortality while some areas had an increase, particularly for females. Males consistently showed a higher suicide mortality rates than females but the rate of decline for females was more notabl.\n",
        "\n",
        "The findings could conclude an analysis between age period cohort to understand how suicide risk changes across different generations. This study also highlights the challenges to be able to directly  compare between generations, such as changes in mental health awareness, shifts in diagnostic criteria, and differences in how suicides are classified between countries may change the reported suicide rates. Which bring up the issue of underreporting cases, especially in LMIC where suicide deaths are misclassified due to the stigma around mental health.\n",
        "\n",
        "Another study by Lovero et al. (2023) reported on suicide epidemiology within LMIC where they found that suicide rates are lower compared to high income countries (HIC), but reductions in suicide rates was significantly slower. The study highlights that LMIC youth have higher rates of suicide attempts compared to HIC highlighting the importance of mental health care access and suicide prevention. Groups like females, those with psychiatric disorders, LGBTQ+ individuals, and those with lower socioeconomic status are a vulnerable group who are at a higher suicide risks. Additionally, the issues of underreporting, stigma, and limited mental health resources contribute to the inaccuracy in the suicide data, particularly in LMIC making it difficult to develop effective strategies to intervene.\n",
        "\n",
        "Although both studies provide insights on suicide trends they do not fully show the suicide patterns that is happening generationally. Suicide rates among change by economic stability, technological advancements, and changing social attitudes toward mental health, which are not reflected. Additionally, the impacts of the COVID-19 pandemic remains as mental health stressors like economic instability, social isolation, and healthcare disruptions affect the younger generations.\n",
        "\n",
        "These studies provide an understanding for suicide trends that happened with each generation, with  evolving environments which may effect suicide risk factors. While the GBD study does show a long-term perspective on global suicide mortality, the work by Lovero et al. highlights the challenges faced by LMIC populations where the lack of resources and healthcare contribute greatly towards suicide prevention. This research is to support the need for suicide prevention to take into account for both global and localized factors to receive adequate mental health support. Addressing data collection challenges and identifying the social, economic, and cultural influences behind generational suicide trends will be crucial in getting accessible and helpful resources.\n",
        "\n",
        "1. <a name='cite_note-1'></a> [^](#cite_ref-1) Yan, N., Luo, Y., Mackay, L. E., Wang, Y., Wang, Y., Wang, Y., Shiferaw, B. D., Wang, J., Tang, J., Yan, W., Wang, Q., Gao, X., & Wang, W. (21 Oct 2024). *Global patterns and trends of suicide mortality and years of life lost among adolescents and young adults from 1990 to 2021: a systematic analysis for the Global Burden of Disease Study 2021.* Cambridge University Press. [Link](https://www.cambridge.org/core/journals/epidemiology-and-psychiatric-sciences/article/global-patterns-and-trends-of-suicide-mortality-and-years-of-life-lost-among-adolescents-and-young-adults-from-1990-to-2021-a-systematic-analysis-for-the-global-burden-of-disease-study-2021/CA5109ECC6558BAE3C3F3E8DE05FC5B1)\n",
        "\n",
        "2. <a name='cite_note-2'></a> [^](#cite_ref-2) Lovero, K. L., Dos Santos, P. F., Come, A. X., Wainberg, M. L., & Oquendo, M. A. (13 May 2023). *Suicide in Global Mental Health.* Current Psychiatry Reports. [Link](https://pmc.ncbi.nlm.nih.gov/articles/PMC10182355/)\n"
      ]
     },
  {
   "cell_type": "markdown",
   "metadata": {},
   "source": [
    "# Hypothesis\n"
   ]
  },
{
        "cell_type": "markdown",
        "metadata": {},
        "source": [
        "We predict that younger generations, Millenials and Generation Z, will have higher rates of suicides compared to older generations. We also predict that male suicide rates will be higher than female. Suicide rates will vary across different regions with higher income countries showing lower suicide rates, while lower and middle income countries will show higher rates of suicide due to limited mental health resources, cultural stigma, and socioeconomic status. We think that countries with a higher GDP will have lower rates of suicide, while countries with a lower GDP will have higher rates of suicide. Furthermore, we predict that suicide rates will be high during the peak of the covid-19 pandemic due to limited mental health resources.\n",
        "\n",
        "**Rationale:** The hypothesis provided highlights existing research that had played a significant role in mental health, cultural factors, and socioeconomic status and how it shapes suicidal rates all across the world. High income countries tend to have more accessible systems regarding mental health for their residents, while lower and middle income countries lack this accessibility due to economic status regarding funding and cultural stigmas about mental illnesses. The COVID-19 pandemic saw a decrease in suicidal rates, because of many countries helping their residents during that vulnerable time. However, some also saw an increase as many countries had issues providing mental health resources. \n", 
        "\n"
     ]
     },
  {
   "cell_type": "markdown",
   "metadata": {},
   "source": [
    "# Data"
   ]
  },
 {
   "cell_type": "markdown",
   "metadata": {},
   "source": [
    "## Data overview\n",
    "\n",
    "- **Dataset**\n",
    "  - Dataset Name: *Suicide Rates Overview (1985 to 2021)*\n",
    "  - Link to the dataset: https://www.kaggle.com/datasets/omkargowda/suicide-rates-overview-1985-to-2021\n",
    "  - Number of observations: 31,756\n",
    "  - Number of variables: 12 variables\n",
    "\n",
    "- **Dataset #1: Suicide Rates Overview (1985 to 2021)**\n",
    "  - **Description:** The dataset contains suicide rate data from 2011 to 2021, categorized by sex, age group, and generation, allowing for an analysis of patterns across these demographics. Key variables include ‘suicides’ (integer, total suicides per category), ‘suicides/100k pop’ (float, suicide rate per 100,000 people), ‘year’ (integer), ‘sex’ (categorical: male/female), ‘age’ (categorical: grouped age ranges), and ‘generation’ (categorical: generational labels such as Boomers, Millennials, etc.). These variables are proxies to help us understand suicide trends in different demographic groups over time.\n",
    "  - **Preparation Steps:** To prepare this dataset for analysis, we will remove irrelevant columns, remove Na or NaN values, rename column names for better readability, and standardize values within each column by removing unnecessary words/characters. We also must convert certain data to a numeric datatype in order to create graphs for our EDA section."
   ]
  },
  {
   "cell_type": "markdown",
   "metadata": {},
   "source": [
    "## Dataset #1 Wrangling (Suicide Rates Overview (1985 to 2021))"
   ]
  },
  {
   "cell_type": "code",
   "execution_count": null,
   "metadata": {},
   "outputs": [],
   "source": [
    "# import libraries\n",
    "import pandas as pd\n",
    "import numpy as np\n",
    "\n",
    "# Importing files \n",
    "suiciderates = pd.read_csv('https://raw.githubusercontent.com/COGS108/Group012_WI25/refs/heads/master/master.csv?token=GHSAT0AAAAAAC6VLPK6LJ34RTBODO4CKHSYZ6OJRAQ')\n",
    "\n",
    "# Removing irrelevant columns\n",
    "suiciderates_columns = ['country', 'year', 'sex', 'age', 'suicides_no', 'population', 'suicides/100k pop', ' gdp_for_year ($) ', 'gdp_per_capita ($)', 'generation']\n",
    "suiciderates = suiciderates[suiciderates_columns]\n",
    "\n",
    "# Remove all rows with na or nan values\n",
    "suiciderates = suiciderates.dropna(subset=['suicides_no'])\n",
    "suiciderates = suiciderates.reset_index(drop=True)\n",
    "\n",
    "# Removing all rows that aren't 2011-2021\n",
    "suiciderates = suiciderates[(suiciderates[\"year\"] >= 2011) & (suiciderates[\"year\"] <= 2021)]\n",
    "suiciderates = suiciderates.reset_index(drop=True)\n",
    "\n",
    "# Changing column names\n",
    "suiciderates.rename(columns={\"suicides_no\": \"suicides\", \" gdp_for_year ($) \": \"annual_gdp\", \"gdp_per_capita ($)\": \"gdp_per_capita\"}, inplace=True)\n",
    "\n",
    "# Fixing spelling of 'millennial'\n",
    "suiciderates['generation'] = suiciderates['generation'].replace('Millenials', 'Millennials')\n",
    "\n",
    "# Cleaning the age column by removing 'years'\n",
    "suiciderates['age'] = suiciderates['age'].str.replace(' years', '').str.strip()\n",
    "\n",
    "# Removing commas/decimal places and converting values to numeric\n",
    "suiciderates['suicides'] = pd.to_numeric(suiciderates['suicides'], errors='coerce')\n",
    "suiciderates['population'] = pd.to_numeric(suiciderates['population'], errors='coerce')\n",
    "suiciderates['annual_gdp'] = pd.to_numeric(suiciderates['annual_gdp'].str.replace(',', ''), errors='coerce')\n"
   ]
  },
{
 "cell_type": "code",
 "execution_count": 68,
 "metadata": {},
 "outputs": [
  {
   "data": {
    "text/html": [
     "<div>\n",
     "<style scoped>\n",
     "    .dataframe tbody tr th:only-of-type {\n",
     "        vertical-align: middle;\n",
     "    }\n",
     "\n",
     "    .dataframe tbody tr th {\n",
     "        vertical-align: top;\n",
     "    }\n",
     "\n",
     "    .dataframe thead th {\n",
     "        text-align: right;\n",
     "    }\n",
     "</style>\n",
     "<table border=\"1\" class=\"dataframe\">\n",
     "  <thead>\n",
     "    <tr style=\"text-align: right;\">\n",
     "      <th></th>\n",
     "      <th>country</th>\n",
     "      <th>year</th>\n",
     "      <th>sex</th>\n",
     "      <th>age</th>\n",
     "      <th>suicides</th>\n",
     "      <th>population</th>\n",
     "      <th>suicides/100k pop</th>\n",
     "      <th>annual_gdp</th>\n",
     "      <th>gdp_per_capita</th>\n",
     "      <th>generation</th>\n",
     "    </tr>\n",
     "  </thead>\n",
     "  <tbody>\n",
     "    <tr>\n",
     "      <th>0</th>\n",
     "      <td>Antigua and Barbuda</td>\n",
     "      <td>2012</td>\n",
     "      <td>female</td>\n",
     "      <td>15-24</td>\n",
     "      <td>0.0</td>\n",
     "      <td>8435</td>\n",
     "      <td>0.000000</td>\n",
     "      <td>1.211412e+09</td>\n",
     "      <td>13657.000000</td>\n",
     "      <td>Millenials</td>\n",
     "    </tr>\n",
     "    <tr>\n",
     "      <th>1</th>\n",
     "      <td>Antigua and Barbuda</td>\n",
     "      <td>2012</td>\n",
     "      <td>female</td>\n",
     "      <td>25-34</td>\n",
     "      <td>0.0</td>\n",
     "      <td>7215</td>\n",
     "      <td>0.000000</td>\n",
     "      <td>1.211412e+09</td>\n",
     "      <td>13657.000000</td>\n",
     "      <td>Millenials</td>\n",
     "    </tr>\n",
     "    <tr>\n",
     "      <th>2</th>\n",
     "      <td>Antigua and Barbuda</td>\n",
     "      <td>2012</td>\n",
     "      <td>female</td>\n",
     "      <td>35-54</td>\n",
     "      <td>0.0</td>\n",
     "      <td>15193</td>\n",
     "      <td>0.000000</td>\n",
     "      <td>1.211412e+09</td>\n",
     "      <td>13657.000000</td>\n",
     "      <td>Generation X</td>\n",
     "    </tr>\n",
     "    <tr>\n",
     "      <th>3</th>\n",
     "      <td>Antigua and Barbuda</td>\n",
     "      <td>2012</td>\n",
     "      <td>female</td>\n",
     "      <td>5-14</td>\n",
     "      <td>0.0</td>\n",
     "      <td>8401</td>\n",
     "      <td>0.000000</td>\n",
     "      <td>1.211412e+09</td>\n",
     "      <td>13657.000000</td>\n",
     "      <td>Generation Z</td>\n",
     "    </tr>\n",
     "    <tr>\n",
     "      <th>4</th>\n",
     "      <td>Antigua and Barbuda</td>\n",
     "      <td>2012</td>\n",
     "      <td>female</td>\n",
     "      <td>55-74</td>\n",
     "      <td>0.0</td>\n",
     "      <td>5512</td>\n",
     "      <td>0.000000</td>\n",
     "      <td>1.211412e+09</td>\n",
     "      <td>13657.000000</td>\n",
     "      <td>Boomers</td>\n",
     "    </tr>\n",
     "    <tr>\n",
     "      <th>...</th>\n",
     "      <td>...</td>\n",
     "      <td>...</td>\n",
     "      <td>...</td>\n",
     "      <td>...</td>\n",
     "      <td>...</td>\n",
     "      <td>...</td>\n",
     "      <td>...</td>\n",
     "      <td>...</td>\n",
     "      <td>...</td>\n",
     "      <td>...</td>\n",
     "      <td>...</td>\n",
     "      <td>...</td>\n",
     "    </tr>\n",
     "    <tr>\n",
     "      <th>7535</th>\n",
     "      <td>Ukraine</td>\n",
     "      <td>2017</td>\n",
     "      <td>female</td>\n",
     "      <td>75+</td>\n",
     "      <td>256.0</td>\n",
     "      <td>44831135</td>\n",
     "      <td>0.571032</td>\n",
     "      <td>1.120000e+11</td>\n",
     "      <td>2638.326055</td>\n",
     "      <td>G.I. Generation</td>\n",
     "    </tr>\n",
     "    <tr>\n",
     "      <th>7536</th>\n",
     "      <td>United Kingdom</td>\n",
     "      <td>2017</td>\n",
     "      <td>female</td>\n",
     "      <td>75+</td>\n",
     "      <td>104.0</td>\n",
     "      <td>66058859</td>\n",
     "      <td>0.157435</td>\n",
     "      <td>2.700000e+12</td>\n",
     "      <td>40857.755580</td>\n",
     "      <td>G.I. Generation</td>\n",
     "    </tr>\n",
     "    <tr>\n",
     "      <th>7537</th>\n",
     "      <td>United States of America</td>\n",
     "      <td>2017</td>\n",
     "      <td>female</td>\n",
     "      <td>75+</td>\n",
     "      <td>501.0</td>\n",
     "      <td>325122128</td>\n",
     "      <td>0.154096</td>\n",
     "      <td>1.950000e+13</td>\n",
     "      <td>60109.655730</td>\n",
     "      <td>G.I. Generation</td>\n",
     "    </tr>\n",
     "    <tr>\n",
     "      <th>7538</th>\n",
     "      <td>Uruguay</td>\n",
     "      <td>2017</td>\n",
     "      <td>female</td>\n",
     "      <td>75+</td>\n",
     "      <td>14.0</td>\n",
     "      <td>3422200</td>\n",
     "      <td>0.409094</td>\n",
     "      <td>6.423397e+10</td>\n",
     "      <td>18690.893840</td>\n",
     "      <td>G.I. Generation</td>\n",
     "    </tr>\n",
     "    <tr>\n",
     "      <th>7539</th>\n",
     "      <td>Uzbekistan</td>\n",
     "      <td>2017</td>\n",
     "      <td>female</td>\n",
     "      <td>75+</td>\n",
     "      <td>3.0</td>\n",
     "      <td>32388600</td>\n",
     "      <td>0.009263</td>\n",
     "      <td>6.208132e+10</td>\n",
     "      <td>1916.764642</td>\n",
     "      <td>G.I. Generation</td>\n",
     "    </tr>\n",
     "  </tbody>\n",
     "</table>\n",
     "<p>7540 rows × 10 columns</p>\n",
     "</div>"
    ],
    "text/plain": [
     "       country  year     sex          age  suicides_no  population  suicides/100k pop    country-year  HDI for year gdp_for_year ($)  gdp_per_capita ($)       generation\n",
     "0      Antigua and Barbuda  1987    male  15-24 years           21      312900               6.71     Albania1987           NaN    2,15,66,24,900                 796  Generation X\n",
     "1      Antigua and Barbuda  1987    male  35-54 years           16      308000               5.19     Albania1987           NaN    2,15,66,24,900                 796         Silent\n",
     "2      Antigua and Barbuda  1987  female  15-24 years           14      289700               4.83     Albania1987           NaN    2,15,66,24,900                 796  Generation X\n",
     "3      Antigua and Barbuda  1987    male   75+ years            1       21800               4.59     Albania1987           NaN    2,15,66,24,900                 796  G.I. Generation\n",
     "4      Antigua and Barbuda  1987    male  25-34 years            9      274300               3.28     Albania1987           NaN    2,15,66,24,900                 796         Boomers\n",
     "...        ...   ...     ...           ...          ...         ...               ...             ...           ...              ...               ...               ...\n",
     "27815  Ukraine  2014  female  35-54 years          107     3620833               2.96  Uzbekistan2014        0.675  63,06,70,77,179               2309  Generation X\n",
     "27816  United Kingdom  2014  female   5-14 years           60     2762158               2.17  Uzbekistan2014        0.675  63,06,70,77,179               2309  Generation Z\n",
     "27817  United States of America  2014  female  55-74 years           21     1438935               1.46  Uzbekistan2014        0.675  63,06,70,77,179               2309         Boomers\n",
     "27818  Uruguay  2014  female   75+ years            9      348465               2.58  Uzbekistan2014        0.675  63,06,70,77,179               2309         Silent\n",
     "27819  Uzbekistan  2014    male   5-14 years           61     2812817               2.17  Uzbekistan2014        0.675  63,06,70,77,179               2309  Generation Z\n",
     "\n",
     "[7540 rows x 10 columns]"
    ]
   },
   "execution_count": 68,
   "metadata": {},
   "output_type": "execute_result"
  }
 ],
   "source": [
    "suiciderates"
   ]
  },
  {
   "cell_type": "markdown",
   "metadata": {},
   "source": [
 "# Results\n",
    "\n",
    "## Exploratory Data Analysis\n",
    "\n",
    "To analyze suicide rate trends across different demographics, we need to conduct exploratory data analysis to understand patterns by age, sex, and generation over time."
   ]
  },
  {
   "cell_type": "markdown",
   "metadata": {},
   "source": [
    "###Section 1: Suicide Trends and Demographics\n",
    "\n"
   ]
  },
  {
   "cell_type": "code",
   "execution_count": null,
   "metadata": {},
   "outputs": [],
   "source": [
    "# 1) Pie chart of suicide rates by generation\n",
    "import matplotlib.pyplot as plt\n",
    "suicides_by_generation = suiciderates.groupby('generation')['suicides'].sum()\n",
    "plt.pie(suicides_by_generation, labels=suicides_by_generation.index, autopct='%1.1f%%')\n",
    "plt.title('Distribution of Suicides by Generation')\n",
    "plt\n",
    "\n"
   ]
  },
  {
   "cell_type": "markdown",
   "metadata": {},
   "source": [
"![Piechart](images/piechart.png)"
   ]
  },
{
    "cell_type": "markdown",
    "metadata": {},
    "source": [
        "In order to see which generation had the highest levels (or percentage) of suicide globally, a pie chart was created and separated to a slice per generation. We see down below that Generation Z and Millennials make up a total of 19.3% of suicides globally, marking it lower compared to others. Gen Z represents the smallest proportion of the suicide rates from 2011-2021. This is due to the fact that many Gen Z’s were very young at the time with some only being a few years old while older Gen Z’s  were in their 20’s during the duration of the data collection.\n"
    ]
  },
  {
   "cell_type": "code",
   "execution_count": null,
   "metadata": {},
   "outputs": [],
   "source": [
    "# 2) Bar chart of suicides by country and separated by sex\n",
    "# Getting the top 10 countries\n",
    "total_suicides_per_country = suiciderates.groupby('country')['suicides'].sum()\n",
    "top_10 = total_suicides_per_country.sort_values(ascending=False).head(10)\n",
    "top_10_data = suiciderates[suiciderates['country'].isin(top_10.index)]\n",
    "\n",
    "# Grouping by sex\n",
    "suicides_by_country_sex = top_10_data.groupby(['country', 'sex'])['suicides'].sum().unstack()\n",
    "suicides_by_country_sex = suicides_by_country_sex.sum(axis=1).sort_values(ascending=False).index\n",
    "suicides_by_country_sex = top_10_data.groupby(['country', 'sex'])['suicides'].sum().unstack().reindex(suicides_by_country_sex)\n",
    "suicides_by_country_sex.plot(kind='bar', figsize=(20, 6))\n",
    "\n",
    "plt.xlabel('Country')\n",
    "plt.ylabel('Number of Suicides')\n",
    "plt.xticks(rotation=45, ha='right')\n",
    "plt.title('Number of Suicides by Country and Sex')\n",
    "plt.legend(title='Sex')\n",
    "plt\n"
   ]
  },
  {
   "cell_type": "markdown",
   "metadata": {},
   "source": [
    "![GenderBarChart](https://private-user-images.githubusercontent.com/186261093/424713688-02b7d310-0566-42ca-878d-4eb9b95602c1.png?jwt=eyJhbGciOiJIUzI1NiIsInR5cCI6IkpXVCJ9.eyJpc3MiOiJnaXRodWIuY29tIiwiYXVkIjoicmF3LmdpdGh1YnVzZXJjb250ZW50LmNvbSIsImtleSI6ImtleTUiLCJleHAiOjE3NDI0MjEyOTIsIm5iZiI6MTc0MjQyMDk5MiwicGF0aCI6Ii8xODYyNjEwOTMvNDI0NzEzNjg4LTAyYjdkMzEwLTA1NjYtNDJjYS04NzhkLTRlYjliOTU2MDJjMS5wbmc_WC1BbXotQWxnb3JpdGhtPUFXUzQtSE1BQy1TSEEyNTYmWC1BbXotQ3JlZGVudGlhbD1BS0lBVkNPRFlMU0E1M1BRSzRaQSUyRjIwMjUwMzE5JTJGdXMtZWFzdC0xJTJGczMlMkZhd3M0X3JlcXVlc3QmWC1BbXotRGF0ZT0yMDI1MDMxOVQyMTQ5NTJaJlgtQW16LUV4cGlyZXM9MzAwJlgtQW16LVNpZ25hdHVyZT1iODU3YjhlYWJiMTM3ZDAxZmRhMTNkNDQ1NjRlOGU0YWNjM2I3ZmE1ODhiNmMzZWI2ZjkyZDg0MTc0ZjZlYWQ4JlgtQW16LVNpZ25lZEhlYWRlcnM9aG9zdCJ9.EhiyJmsmt3rI0vZKkS3TfkwaxzDwXdnfs-TQT2BZLss)"
   ]
  },
{
    "cell_type": "markdown",
    "metadata": {},
    "source": [
        "The barplot above shows that for all countries males have a significantly higher number of suicides than females. This pattern is true regardless of the location, which proves a global disparity. The United States, Russian Federation, and Japan displayed the highest suicide rates for both genders, however males consistently showed a higher rate than females by a large margin. This trend may be due to the combination of sociocultural, psychological, and economic factors that impact men worldwide. This visualization supports our hypothesis that male suicides occur more than female suicides worldwide.\n"
    ]
  },
  {
   "cell_type": "code",
   "execution_count": null,
   "metadata": {},
   "outputs": [],
   "source": [
    "# 3) Line plot of suicide rates over time\n",
    "import seaborn as sns\n",
    "suicide_rates_by_year = suiciderates.groupby('year')['suicides/100k pop'].mean()\n",
    "plt.figure(figsize=(12, 6))\n",
    "sns.lineplot(x=suicide_rates_by_year.index, y=suicide_rates_by_year.values)\n",
    "plt.xlabel('Year')\n",
    "plt.ylabel('Suicides per 100k People)')\n",
    "plt.title('Suicide Rates Over Time (2011-2021)')\n",
    "plt\n"
   ]
  },
  {
   "cell_type": "markdown",
   "metadata": {},
   "source": [
    "![Lineplot](https://private-user-images.githubusercontent.com/186261093/424713637-24d99b8b-6bed-4893-9ffc-fda88f25b0db.png?jwt=eyJhbGciOiJIUzI1NiIsInR5cCI6IkpXVCJ9.eyJpc3MiOiJnaXRodWIuY29tIiwiYXVkIjoicmF3LmdpdGh1YnVzZXJjb250ZW50LmNvbSIsImtleSI6ImtleTUiLCJleHAiOjE3NDI0MjEyOTIsIm5iZiI6MTc0MjQyMDk5MiwicGF0aCI6Ii8xODYyNjEwOTMvNDI0NzEzNjM3LTI0ZDk5YjhiLTZiZWQtNDg5My05ZmZjLWZkYTg4ZjI1YjBkYi5wbmc_WC1BbXotQWxnb3JpdGhtPUFXUzQtSE1BQy1TSEEyNTYmWC1BbXotQ3JlZGVudGlhbD1BS0lBVkNPRFlMU0E1M1BRSzRaQSUyRjIwMjUwMzE5JTJGdXMtZWFzdC0xJTJGczMlMkZhd3M0X3JlcXVlc3QmWC1BbXotRGF0ZT0yMDI1MDMxOVQyMTQ5NTJaJlgtQW16LUV4cGlyZXM9MzAwJlgtQW16LVNpZ25hdHVyZT02M2I0ZGU5ZGIzMzAwZTUyNzVmZWY2NmFiNzdhZjU5MWEzMjg5M2I4MzIyZDlmZTExNjU0NmU5YTMzZmZkYWJiJlgtQW16LVNpZ25lZEhlYWRlcnM9aG9zdCJ9.VHsAafFCNFKBCCe7pm9h2iNwxHWgMnoD-uG9TgHC-xU)"
   ]
  },
{
    "cell_type": "markdown",
    "metadata": {},
    "source": [
        "The line plot displays the trend of suicide rates per 100k people from 2011 to 2021. The data suggests relatively stable suicide rates from 2011 to 2015, followed by a sharp increase in 2016. However, after 2016, there is a noticeable decline, particularly a steep drop after 2017, reaching the lowest point in 2020. This decline may be influenced by changes in reporting practices, mental health interventions, or external societal factors, such as the COVID-19 pandemic.\n"
    ]
  },
  {
   "cell_type": "markdown",
   "metadata": {},
   "source": [
    "### Section 2: Economic Factors and Suicide Rates\n",
    "\n"
   ]
  },
  {
   "cell_type": "code",
   "execution_count": null,
   "metadata": {},
   "outputs": [],
   "source": [
    "import matplotlib.pyplot as plt\n",
    "\n",
    "# Scatter plot showing relationship between GDP per capita and suicides per 100k population\n",
    "plt.scatter(suiciderates['gdp_per_capita'], suiciderates['suicides/100k pop'], alpha=0.5, c=suiciderates['year'], cmap='viridis')\n",
    "\n",
    "# Title and labels\n",
    "plt.title('Suicide Rates vs. GDP per Capita')\n",
    "plt.xlabel('GDP per Capita ($)')\n",
    "plt.ylabel('Suicides per 100k Population')\n",
    "\n",
    "# Color bar for the year range\n",
    "plt.colorbar(label='Year')\n",
    "\n",
    "# Show plot\n",
    "plt.show()"
   ]
  },
  {
   "cell_type": "markdown",
   "metadata": {},
   "source": [
    "![Suicide Rate vs. GDP Per Capita](https://private-user-images.githubusercontent.com/186261093/424713639-58efc9b3-e6d7-4892-a945-88c9a4e5cf04.png?jwt=eyJhbGciOiJIUzI1NiIsInR5cCI6IkpXVCJ9.eyJpc3MiOiJnaXRodWIuY29tIiwiYXVkIjoicmF3LmdpdGh1YnVzZXJjb250ZW50LmNvbSIsImtleSI6ImtleTUiLCJleHAiOjE3NDI0MjEyOTIsIm5iZiI6MTc0MjQyMDk5MiwicGF0aCI6Ii8xODYyNjEwOTMvNDI0NzEzNjM5LTU4ZWZjOWIzLWU2ZDctNDg5Mi1hOTQ1LTg4YzlhNGU1Y2YwNC5wbmc_WC1BbXotQWxnb3JpdGhtPUFXUzQtSE1BQy1TSEEyNTYmWC1BbXotQ3JlZGVudGlhbD1BS0lBVkNPRFlMU0E1M1BRSzRaQSUyRjIwMjUwMzE5JTJGdXMtZWFzdC0xJTJGczMlMkZhd3M0X3JlcXVlc3QmWC1BbXotRGF0ZT0yMDI1MDMxOVQyMTQ5NTJaJlgtQW16LUV4cGlyZXM9MzAwJlgtQW16LVNpZ25hdHVyZT1iOTAwOWQzMTBlZjc2MTgyNTBjYjFhZTFjZTIxY2Q2YzQ2N2Y4ZWIwMjllOGE4YmZiN2Y1NWZmMDJkMjBhNDA2JlgtQW16LVNpZ25lZEhlYWRlcnM9aG9zdCJ9.2U8Ne4mhWIYdeAm0zC5XKXVARM402U3-wSe3RbQzZHI)"
   ]
  },
{
    "cell_type": "markdown",
    "metadata": {},
    "source": [
        "This scatter plot examines the relationship between GDP per capita and suicide rates per 100k population from 2011-2020. While the data does not show a strong linear correlation regarding different GDP levels, we find that countries with lower GDP per capita tend to have more variations in suicide rates. Some even have more extreme outliers than others, as shown in the graph. With high GDP countries, there is a noticeable decrease in suicide rates compared to others yet exceptions for this exist. This suggests that while economic factors may influence suicide risk, other social, cultural, and mental health factors likely play significant roles.\n"
    ]
  },
  {
   "cell_type": "markdown",
   "metadata": {},
   "source": [
   "#Ethics & Privacy\n",
        "\n",
        "### Ethical Concerns\n",
        "There are many factors regarding ethics and privacy when it comes to speaking about suicide as it is a sensive topic for many, and so the all data provided throughout the project was handled with care and respect. Ethical concerns include potential misinterpretations of sensitive data and the possible risk of stigmatizing certain areas, as well as accuracy represented in the data. Some countries may not have reliable data which can cause some potential misinterpretations regarding the common patterns seen throughout the trends. Furthermore we want to ensure others that some datasets might not capture countries in their whole, as oftentimes rural areas are underrepresented in data collections.\n",
        "### Biases\n",
        "Potential biases in this dataset can arise in many different forms primarily with the regions from where the data is collected, how the data was classified, and how certain groups (age and gender) are represented. Additionally, cultural and socioeconomic factors may lead to biased data collection as well. An example for this being that gender biases could play a factor in possible underreporting of female suicides, while cultural expectations might cause misreportings of suicides as other causes of death. In order to handle concerns of bias, our team has taken several steps to minimize risk of personal and sensitive information being exposed. For this we focused solely on anonymized data, and did thorough research to ensure not to include unsupported claims in our project.\n",
        "\n",
        "### Privacy Concerns\n",
        "Privacy concerns lie in the public availability of the data being shown where personal exposure is slightly at risk, even in an anonymous report. The study uses anonymity to protect individuals privacy, but biases might arise in regions where suicide rates are commonly reported or misclassified due to cultural stigmas and limited mental health resources in said region. We also take into account that some regions might hold stricter laws regarding the access to these data collections. We work to ensure that there is no misuse of the findings as it can lead to privacy violations and even stigmatization of nations and certain groups (gender and age).\n"
    ]
  },
  {
   "cell_type": "markdown",
   "metadata": {},
   "source": [
    "# Discusison and Conclusion\n",
    "\n",
    "This study examines the suicide rate patterns across different age groups and genders in various  countries from the years 2011-2021. The findings show that suicide rates are commonly higher in men than women across many  nations. Additionally, we found that economic conditions, measured through GDP per capita in many countries, have likely influenced these high rates.\n",
    "\n",
    "We find that the common trends seen over time have risen to their peak in the year 2016, followed by a significant decline in the years after. The drop is believed to be due to the growing awareness about mental health at the time, but we also acknowledge any possible underreporting on the subject. However, we find that the decreases in the next years might have stemmed from inconsistent data collection instead of actual reductions in suicide rates being collected. With the COVID-19 pandemic taking over the world during the years 2020 and 2021, we find that this has played a large role in increasing stress for all ages, but as the pandemic was in its early stages, the data is not fully reflected properly.\n",
    "\n",
    "The economic analysis seen in our results shows a slight correlation between GDP per capita and suicide rates. We find that while high income countries typically have better access to mental health resources, the suicide rates remained near the same at times. This goes on to show that even financial stability might not lead to an improved mental health well-being, and that stress, pressure, societal expectations, and cultural stigma are likely the highest contributors to the risk of suicide in high-income countries.\n",
    "\n",
    "Next, we compared suicide rates by gender and country, which shows that men have higher suicide rates than women. Here, we base the findings on who is likely to seek less and more mental health support, while also including the thought of who might have higher substance abuse rates amongst the two genders, and who might use more fatal methods in the attempts. Differences in cultural stigmas play a high effect in these rates while societal expectations also plays a significant role.\n",
    "\n",
    "While the study provided important insights into the high rates, it also had several limitations in its structure primarily due to potential underreporting and areas where suicide is highly stigmatized, causing wrongful data collection. Secondly, this report does not take into full account the factors such as mental health services provided or social support, which also plays a role in suicide rates.\n",
    "\n",
    "This study was conducted to highlight the need for a deeper understanding of what are the common contributors to suicide rates and risk across different age groups, gender, and nations. We aim to help raise more awareness of the high suicide rates around the world in the hope to reduce this global issue.\n",
    "\n",
    "\n",
    "# Team Contributions\n",
    "\n",
    "Due to multiple iterations and idea revisions, responsibilities shifted throughout the project. Below is a generalized breakdown of each team member’s contributions:\n",
    "\n",    
    "**Hillary Co**\n",
    "- Organized and scheduled team meetings.\n",
    "- Created and maintained the Google Doc for writing and coding collaboration.\n",
    "- Contributed to research by sourcing relevant articles.\n",
    "- Assisted with writing and revisions.\n",
    "- Edited the final video.\n",
    "\n",
    "**Itzary Vences**\n",
    "- Contributed to implementing writing and code into the project.\n",
    "- Assisted with research by sourcing relevant articles.\n",
    "- Helped with writing and revised final project.\n",
    "- Provided support in various aspects of the project, including organization and refinement.\n",
    "\n",
    "**Jewel Nguyen**\n",
    "- Led coding efforts and implemented key project features.\n",
    "- Created and managed CSV files for data organization.\n",
    "- Contributed to data visualization by working on graphs.\n",
    "- Assisted with dataset research and topic refinement.\n",
    "\n",
    "**Kanon Kitazume**\n",
    "- Scriptwriting and recording the video.\n",
    "- Created and designed project slides.\n",
    "- Helped with writing, revisions, and structuring content.\n",
    "- Assisted in researching and sourcing relevant articles.\n",
    "- Contributed to refining project ideas and overall direction.\n",
    "\n"
   ]
  }
 ],
 "metadata": {
  "kernelspec": {
   "display_name": "Python 3 (ipykernel)",
   "language": "python",
   "name": "python3"
  },
  "language_info": {
   "codemirror_mode": {
    "name": "ipython",
    "version": 3
   },
   "file_extension": ".py",
   "mimetype": "text/x-python",
   "name": "python",
   "nbconvert_exporter": "python",
   "pygments_lexer": "ipython3",
   "version": "3.9.7"
  }
 },
 "nbformat": 4,
 "nbformat_minor": 2
}
