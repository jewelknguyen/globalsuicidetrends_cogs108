{
    "cells": [
     {
      "cell_type": "markdown",
      "metadata": {},
      "source": [
       "# COGS 108 - Project Proposal"
      ]
     },
     {
      "cell_type": "markdown",
      "metadata": {},
      "source": [
       "# Names\n",
       "\n",
       "- Hillary Co\n", 
       "- Itzary Vences\n",
       "- Jewel Nguyen\n",
       "- Kanon Kitazume"
      ]
     },
     {
      "cell_type": "markdown",
      "metadata": {},
      "source": [
       "# Research Question"
      ]
     },
     {
      "cell_type": "markdown",
      "metadata": {},
      "source": [
        "###How do political views profile influence match success for young adults (ages 20s to 30s) on online dating platforms?\n",
       "\n",
       "We aim to analyze the role of political affiliation in match success, considering whether individuals are more likely to match with users who share similar political views. Variables measured will include political affiliation (e.g., liberal, conservative, moderate), match rates, user preferences, and demographic factors. The study will also examine potential biases and privacy concerns surrounding political data usage on dating platforms.\n"
      ]
     },
     {
      "cell_type": "markdown",
      "metadata": {},
      "source": [
       "## Background and Prior Work"
      ]
     },
     {   
   "cell_type": "markdown",
      "metadata": {},
      "source": [
       "###Background\n",
       "\n",
       "In recent years, many young adults have turned to online dating apps to find relationships. Although characteristics such as age and income are factors in dating success, emerging trends suggest that political alignment now plays a significant role in shaping dating preferences for recent generation. As political polarization rises, sharing political views may be a key element in relationship compatibility. This study explores how political views, in addition to age and gender, influence match success for young adults. We hypothesize that aligning politically with a partner may be a significant factor in determining relationship compatibility.\n",
       "\n",
       "###Prior Work\n",
       "The initial study we looked at was conducted in June 2024, titled 'Predict Online Dating Matches Database' <a name='cite_ref-1'></a>[<sup>1</sup>](#cite_note-1). This study predicted online dating matches focusing on: gender, membership status, income, number of children, age, attractiveness ratings, and match count. Although this study identified patterns in the success rate of matches, we wanted to consider political alignment as a variable, as politics for young adults is becoming increasingly relevant in modern dating. \n",
       "\n",
       "Looking deeper into the significance of political views and compatibility, research titled 'Political Party Identification and Romantic Relationship Quality' from 2021 stated that there is a likelier chance of those who identify as Republican to be compatible and adjust to their partners than those who identify as Democratic <a name='cite_ref-2'></a>[<sup>2</sup>](#cite_note-2).\n",
       "\n",
       "This suggests how relevant political beliefs plays a role in determining compatibility and relationship sucess. However, there are few studies have examined the impact of political affiliation on online dating success. This research looks into how political alignment affects match success in online dating among young adults aged 20-30.\n",
       "\n",
       "1. <a name=\"cite_note-1\"></a> [^](#cite_ref-1) Rabie El Kharoua (2024). 💌 Predict Online Dating Matches Dataset. Kaggle. DOI: 10.34740/KAGGLE/DSV/8744629.https://www.kaggle.com/datasets/rabieelkharoua/predict-online-dating-matches-dataset\n",
       "2. <a name=\"cite_note-2\"></a> [^](#cite_ref-2) Brandt, M. J., & Crawford, J. T. (2021). Political Homophily in Online Dating: The Role of Ideological Similarity in Partner Preferences. Personality and Social Psychology Bulletin. PMC8266382. https://pure.uvt.nl/ws/portalfiles/portal/30699390/2019.BrandtCrawford.Worldviewconflictprejudice.Advances.pdf\n"
      ]
     },
     {
        "cell_type": "markdown",
        "metadata": {},
        "source": [
         "# Hypothesis"
        ]
     },
     {
        "cell_type": "markdown",
        "metadata": {},
        "source": [
         "We predict that there will be a strong correlation between political affiliation and match success in young adults in their 20s and 30s. We also predict that there will be a strong correlation between political views and compatibility (if their matches also have aligned political views). \n"
        ]
     },
     {
      "cell_type": "markdown",
      "metadata": {},
      "source": [
       "# Data"
      ]
     },
     {
      "cell_type": "markdown",
      "metadata": {},
      "source": [
       "The ideal dataset we would want that would answer this question is one that includes variables about users such as age, gender, political affiliation, education level, number of matches, swipe behavior (who swiped on who), app name, and type of relationship the user is seeking (casual, long term, etc.). This data would be collected through and by various dating apps when users sign up, create a profile, and interact with the app. The data can be accessed through Kaggle’s datasets or on databases through the app’s API.\n",
       "\n",
       "**Potential datasets**\n",
       "\n",
       "https://osf.io/qujza/\n",
       "\n",
       "https://www.kaggle.com/datasets/rabieelkharoua/predict-online-dating-matches-dataset\n"
      ]
     },
     {
      "cell_type": "markdown",
      "metadata": {},
      "source": [
       "# Ethics & Privacy"
      ]
     },
     {
      "cell_type": "markdown",
      "metadata": {},
      "source": [
       "There are many factors regarding ethics and privacy when signing up for online dating platforms and how it influences one's success match for young adults, with the key issue being potential biases regarding one's political views. \n",
       "\n",
       "Ethical concerns being discrimination and lying about one's political views in order to gain more matches. Privacy concerns arise in data collection as political views can be considered sensitive information that can possibly affect the users workplace or family life etc. as well as possible harassment for having different political views then others. \n",
       "\n",
       "This shows that some users may unknowingly expose themselves to political manipulation. Biases being one of the main concerns in this study show that many dating apps don't represent various populations accurately/evenly, and that certain political views can lead to higher matches in online dating apps causing user manipulation by making their profiles more desirable, with age, gender, and location playing a large role in this.\n",
       "\n",
       "To handle these ethical and privacy concerns, a thorough search must be conducted on demographic imbalances, and how it can affect the representation of the data. It is important to see if algorithms create a fair or uneven representation for political groups during the matching process. By addressing these concerns, it will allow research to ensure dating apps are making their matching process fair instead of favoring one group over another.\n",
       "\n"
      ]
     },
     {
      "cell_type": "markdown",
      "metadata": {},
      "source": [
       "# Team Expectations "
      ]
     },
     {
      "cell_type": "markdown",
      "metadata": {},
      "source": [
       "\n",
       "**Communication:** Regular updates via group chats and in-person meetings every Wednesday at 3 PM.\n",
       "\n",
       "**Respect:** Listening to and considering all group members' ideas and contributions.\n",
       "\n",
       "**Punctuality:** Adhering to deadlines and arriving on time for meetings.\n",
       "\n",
       "**How we will communicate:** Mobile text messages, Google Docs, In-person meetings."
      ]
     },
     {
      "cell_type": "markdown",
      "metadata": {},
      "source": [
       "# Project Timeline Proposal"
      ]
     },
     {
      "cell_type": "markdown",
      "metadata": {},
      "source": [
       "\n",
       "\n",
       "\n",
        "| Meeting Date  | Meeting Time | Completed Before Meeting  | Discuss at Meeting |\n",
           "|--------------|-------------|--------------------------|--------------------|\n",
           "| 02/05       | 3 PM        | Decide on a topic and start drafting a proposal. | Draft and Complete Project Proposal |\n",
           "| **Deadline- 02/09** | N/A | Submission Before 11:59 PM | Complete the Proposal including edits by Friday. Submission of Project Proposal by Sunday Before 11:59 PM. |\n",
           "| 02/12       | 3 PM        | Research potential datasets and ethical considerations. | Decide on the ideal datasets and discuss any ethical concerns. |\n",
           "| 02/19       | 3 PM        | Import and wrangle data; conduct exploratory data analysis (EDA) | Review the data wrangling and EDA, and plan further analysis. |\n",
           "| **Deadline- 02/23** | N/A | Submission Before 11:59 PM | Checkpoint #1: DATA - Submit Checkpoint data by Sunday Before 11:59 PM. |\n",
           "| 02/26       | 3 PM        | Finalize wrangling/EDA; Begin Analysis | Review and edit the ongoing analysis, and project check-in. |\n",
           "| 03/05       | 3 PM        | Complete analysis; Draft results/conclusion/discussion | Edit and finalize the full project draft. |\n",
           "| **Deadline- 03/09** | N/A | Submission Before 11:59 PM | Checkpoint #2: EDA - Submit Checkpoint #2 EDA by Sunday Before 11:59 PM. |\n",
           "| 03/12       | 3 PM        | Conduct an in-depth analysis and draft the final report. | Review and finalize the report. |\n",
           "| **Deadline- 03/19** | N/A | Submission Before 11:59 PM | Finalize project - Submit the Final Project by Sunday Before 11:59 PM. |"
      ]
     }
    ],
    "metadata": {
     "kernelspec": {
      "display_name": "Python 3 (ipykernel)",
      "language": "python",
      "name": "python3"
     },
     "language_info": {
      "codemirror_mode": {
       "name": "ipython",
       "version": 3
      },
      "file_extension": ".py",
      "mimetype": "text/x-python",
      "name": "python",
      "nbconvert_exporter": "python",
      "pygments_lexer": "ipython3",
      "version": "3.9.7"
     }
    },
    "nbformat": 4,
    "nbformat_minor": 2
   }
